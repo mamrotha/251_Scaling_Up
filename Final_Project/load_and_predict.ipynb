{
 "cells": [
  {
   "cell_type": "code",
   "execution_count": 1,
   "metadata": {},
   "outputs": [
    {
     "name": "stderr",
     "output_type": "stream",
     "text": [
      "Using TensorFlow backend.\n"
     ]
    }
   ],
   "source": [
    "import keras\n",
    "import numpy as np\n",
    "import tensorflow as tf\n",
    "import sklearn\n",
    "\n",
    "import glob\n",
    "import cv2\n",
    "import random\n",
    "import shutil\n",
    "from matplotlib import pyplot as plt\n",
    "\n",
    "#from keras.preprocessing.image import ImageDataGenerator\n",
    "#from keras.models import Sequential\n",
    "#from keras.layers import Conv2D, MaxPooling2D\n",
    "#from keras.layers import Activation, Dropout, Flatten, Dense\n",
    "#from keras import backend as K"
   ]
  },
  {
   "cell_type": "markdown",
   "metadata": {},
   "source": [
    "## Load Model and Weights without JSON"
   ]
  },
  {
   "cell_type": "code",
   "execution_count": 16,
   "metadata": {
    "scrolled": true
   },
   "outputs": [],
   "source": [
    "img_width, img_height = 480, 640\n",
    "\n",
    "\"\"\"\n",
    "train_data_dir = 'data/train'\n",
    "validation_data_dir = 'data/validation'\n",
    "nb_train_samples = 2000\n",
    "nb_validation_samples = 800\n",
    "epochs = 4\n",
    "batch_size = 10\n",
    "\"\"\"\n",
    "\n",
    "if K.image_data_format() == 'channels_first':\n",
    "    input_shape = (3, img_width, img_height)\n",
    "else:\n",
    "    input_shape = (img_width, img_height, 3)\n",
    "\n",
    "model = Sequential()\n",
    "model.add(Conv2D(32, (3, 3), input_shape=input_shape))\n",
    "model.add(Activation('relu'))\n",
    "model.add(MaxPooling2D(pool_size=(2, 2)))\n",
    "\n",
    "model.add(Conv2D(32, (3, 3)))\n",
    "model.add(Activation('relu'))\n",
    "model.add(MaxPooling2D(pool_size=(2, 2)))\n",
    "\n",
    "\"\"\"\n",
    "model.add(Conv2D(64, (3, 3)))\n",
    "model.add(Activation('relu'))\n",
    "model.add(MaxPooling2D(pool_size=(2, 2)))\n",
    "\"\"\"\n",
    "\n",
    "model.add(Flatten())\n",
    "model.add(Dense(64))\n",
    "model.add(Activation('relu'))\n",
    "model.add(Dropout(0.5))\n",
    "model.add(Dense(1))\n",
    "model.add(Activation('sigmoid'))\n",
    "model.load_weights('binary_classifier.h5.h5')"
   ]
  },
  {
   "cell_type": "markdown",
   "metadata": {},
   "source": [
    "## Load Model and Weights with JSON"
   ]
  },
  {
   "cell_type": "code",
   "execution_count": 2,
   "metadata": {},
   "outputs": [
    {
     "name": "stdout",
     "output_type": "stream",
     "text": [
      "<class '_io.TextIOWrapper'>\n",
      "<class 'str'>\n",
      "<class 'keras.engine.sequential.Sequential'>\n",
      "(480, 640, 3)\n",
      "(240, 320, 3)\n",
      "(1, 240, 320, 3)\n",
      "(480, 640, 3)\n",
      "(240, 320, 3)\n",
      "(1, 240, 320, 3)\n",
      "(480, 640, 3)\n",
      "(240, 320, 3)\n",
      "(1, 240, 320, 3)\n",
      "['low', 'mid', 'high']\n"
     ]
    }
   ],
   "source": [
    "#create function to take file from jpg to predicted class name\n",
    "def predict_class(image, classes):\n",
    "    img = cv2.imread(image)\n",
    "    print(img.shape)\n",
    "    resized = cv2.resize(img, (320,240))\n",
    "    print(resized.shape)\n",
    "    x = resized.reshape((1,) + resized.shape)\n",
    "    print(x.shape)\n",
    "    return classes[model.predict(x).argmax(axis=1)[0]]\n",
    "\n",
    "#Loads the Model\n",
    "json_file = open('/home/python/model4.json', 'r')\n",
    "print(type(json_file))\n",
    "loaded_model_json = json_file.read()\n",
    "print(type(loaded_model_json))\n",
    "json_file.close()\n",
    "model = keras.models.model_from_json(loaded_model_json)\n",
    "print(type(model))\n",
    "model.load_weights(\"/home/python/test4_model.h5\")\n",
    "\n",
    "#give names to the classes\n",
    "classes = ['low', 'mid', 'high']\n",
    "\n",
    "#grab test examples\n",
    "img_1 = '/home/python/test4/validation/ga_000/ga_000_1.jpg'\n",
    "img_2 = '/home/python/test4/validation/ga_050/ga_050_2.jpg'\n",
    "img_3 = '/home/python/test4/validation/ga_100/ga_100_3.jpg'\n",
    "                  \n",
    "ga = [img_1, img_2, img_3]\n",
    "\n",
    "#make predictions\n",
    "ga_predicts = [predict_class(i, classes) for i in ga]\n",
    "print(ga_predicts)"
   ]
  },
  {
   "cell_type": "code",
   "execution_count": 10,
   "metadata": {},
   "outputs": [
    {
     "ename": "ValueError",
     "evalue": "slice step cannot be zero",
     "output_type": "error",
     "traceback": [
      "\u001b[0;31m---------------------------------------------------------------------------\u001b[0m",
      "\u001b[0;31mValueError\u001b[0m                                Traceback (most recent call last)",
      "\u001b[0;32m<ipython-input-10-ff879da49ec0>\u001b[0m in \u001b[0;36m<module>\u001b[0;34m()\u001b[0m\n\u001b[1;32m      2\u001b[0m \u001b[0mimg\u001b[0m \u001b[0;34m=\u001b[0m \u001b[0mcv2\u001b[0m\u001b[0;34m.\u001b[0m\u001b[0mimread\u001b[0m\u001b[0;34m(\u001b[0m\u001b[0mimg_1\u001b[0m\u001b[0;34m)\u001b[0m\u001b[0;34m\u001b[0m\u001b[0m\n\u001b[1;32m      3\u001b[0m \u001b[0;34m\u001b[0m\u001b[0m\n\u001b[0;32m----> 4\u001b[0;31m \u001b[0mprint\u001b[0m\u001b[0;34m(\u001b[0m\u001b[0mlen\u001b[0m\u001b[0;34m(\u001b[0m\u001b[0mimg\u001b[0m\u001b[0;34m[\u001b[0m\u001b[0;34m:\u001b[0m\u001b[0;34m:\u001b[0m\u001b[0;36m0\u001b[0m\u001b[0;34m]\u001b[0m\u001b[0;34m)\u001b[0m\u001b[0;34m)\u001b[0m\u001b[0;34m\u001b[0m\u001b[0m\n\u001b[0m",
      "\u001b[0;31mValueError\u001b[0m: slice step cannot be zero"
     ]
    }
   ],
   "source": [
    "img_1 = '/home/python/test4/validation/ga_000/ga_000_1.jpg'\n",
    "img = cv2.imread(img_1)\n",
    "\n",
    "print(len(img[::0]))"
   ]
  },
  {
   "cell_type": "code",
   "execution_count": null,
   "metadata": {},
   "outputs": [],
   "source": []
  }
 ],
 "metadata": {
  "kernelspec": {
   "display_name": "Python 3",
   "language": "python",
   "name": "python3"
  },
  "language_info": {
   "codemirror_mode": {
    "name": "ipython",
    "version": 3
   },
   "file_extension": ".py",
   "mimetype": "text/x-python",
   "name": "python",
   "nbconvert_exporter": "python",
   "pygments_lexer": "ipython3",
   "version": "3.6.5"
  }
 },
 "nbformat": 4,
 "nbformat_minor": 2
}
