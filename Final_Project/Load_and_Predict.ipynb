{
 "cells": [
  {
   "cell_type": "code",
   "execution_count": 11,
   "metadata": {},
   "outputs": [],
   "source": [
    "import keras\n",
    "import numpy as np\n",
    "import tensorflow as tf\n",
    "import sklearn\n",
    "\n",
    "from keras.preprocessing.image import ImageDataGenerator\n",
    "from keras.models import Sequential\n",
    "from keras.layers import Conv2D, MaxPooling2D\n",
    "from keras.layers import Activation, Dropout, Flatten, Dense\n",
    "from keras import backend as K"
   ]
  },
  {
   "cell_type": "code",
   "execution_count": 16,
   "metadata": {
    "scrolled": true
   },
   "outputs": [],
   "source": [
    "img_width, img_height = 480, 640\n",
    "\n",
    "\"\"\"\n",
    "train_data_dir = 'data/train'\n",
    "validation_data_dir = 'data/validation'\n",
    "nb_train_samples = 2000\n",
    "nb_validation_samples = 800\n",
    "epochs = 4\n",
    "batch_size = 10\n",
    "\"\"\"\n",
    "\n",
    "if K.image_data_format() == 'channels_first':\n",
    "    input_shape = (3, img_width, img_height)\n",
    "else:\n",
    "    input_shape = (img_width, img_height, 3)\n",
    "\n",
    "model = Sequential()\n",
    "model.add(Conv2D(32, (3, 3), input_shape=input_shape))\n",
    "model.add(Activation('relu'))\n",
    "model.add(MaxPooling2D(pool_size=(2, 2)))\n",
    "\n",
    "model.add(Conv2D(32, (3, 3)))\n",
    "model.add(Activation('relu'))\n",
    "model.add(MaxPooling2D(pool_size=(2, 2)))\n",
    "\n",
    "\"\"\"\n",
    "model.add(Conv2D(64, (3, 3)))\n",
    "model.add(Activation('relu'))\n",
    "model.add(MaxPooling2D(pool_size=(2, 2)))\n",
    "\"\"\"\n",
    "\n",
    "model.add(Flatten())\n",
    "model.add(Dense(64))\n",
    "model.add(Activation('relu'))\n",
    "model.add(Dropout(0.5))\n",
    "model.add(Dense(1))\n",
    "model.add(Activation('sigmoid'))\n",
    "model.load_weights('binary_classifier.h5.h5')"
   ]
  },
  {
   "cell_type": "code",
   "execution_count": 32,
   "metadata": {},
   "outputs": [],
   "source": [
    "def predict_class(img):\n",
    "    img_pred = keras.preprocessing.image.load_img(img)\n",
    "    x = keras.preprocessing.image.img_to_array(img_pred)\n",
    "    x = x.reshape((1,) + x.shape) \n",
    "\n",
    "    return model.predict(x)\n"
   ]
  },
  {
   "cell_type": "code",
   "execution_count": 34,
   "metadata": {},
   "outputs": [
    {
     "name": "stdout",
     "output_type": "stream",
     "text": [
      "[array([[1.]], dtype=float32), array([[1.]], dtype=float32), array([[1.]], dtype=float32)]\n",
      "[array([[0.]], dtype=float32), array([[0.]], dtype=float32), array([[0.]], dtype=float32)]\n"
     ]
    }
   ],
   "source": [
    "img_1 = 'data/validation/good/GOOD_00000687.jpg'\n",
    "img_2 = 'data/validation/good/GOOD_00000022.jpg'\n",
    "img_3 = 'data/validation/good/GOOD_00000127.jpg'\n",
    "\n",
    "img_4 = 'data/validation/bad/BAD_00000140.jpg'\n",
    "img_5 = 'data/validation/bad/BAD_00000512.jpg'\n",
    "img_6 = 'data/validation/bad/BAD_00000823.jpg'\n",
    "\n",
    "goods = [img_1, img_2, img_3]\n",
    "bads = [img_4, img_5, img_6]\n",
    "\n",
    "good_predicts = [predict_class(i) for i in goods]\n",
    "bad_predicts = [predict_class(i) for i in bads]\n",
    "\n",
    "print(good_predicts)\n",
    "print(bad_predicts)"
   ]
  },
  {
   "cell_type": "code",
   "execution_count": null,
   "metadata": {},
   "outputs": [],
   "source": []
  }
 ],
 "metadata": {
  "kernelspec": {
   "display_name": "Python 3",
   "language": "python",
   "name": "python3"
  },
  "language_info": {
   "codemirror_mode": {
    "name": "ipython",
    "version": 3
   },
   "file_extension": ".py",
   "mimetype": "text/x-python",
   "name": "python",
   "nbconvert_exporter": "python",
   "pygments_lexer": "ipython3",
   "version": "3.6.4"
  }
 },
 "nbformat": 4,
 "nbformat_minor": 2
}
