{
 "cells": [
  {
   "cell_type": "code",
   "execution_count": 2,
   "metadata": {},
   "outputs": [],
   "source": [
    "import glob\n",
    "import cv2\n",
    "import random\n",
    "import shutil"
   ]
  },
  {
   "cell_type": "code",
   "execution_count": 9,
   "metadata": {},
   "outputs": [],
   "source": [
    "for image in glob.iglob('/home/python/test1/training/ga_000/*.jpg'):\n",
    "    img = cv2.imread(image)\n",
    "    gray = cv2.cvtColor(img, cv2.COLOR_BGR2GRAY)\n",
    "    blurred = cv2.GaussianBlur(gray, (1,1),0)\n",
    "    edged = cv2.Canny(blurred, 50, 250, 255)\n",
    "    #print(edged)\n",
    "    "
   ]
  },
  {
   "cell_type": "code",
   "execution_count": 8,
   "metadata": {},
   "outputs": [
    {
     "name": "stdout",
     "output_type": "stream",
     "text": [
      "(480, 640)\n"
     ]
    }
   ],
   "source": [
    "images = glob.glob('/home/python/test1/training/ga_000/*.jpg')\n",
    "img = cv2.imread(images[0])\n",
    "gray = cv2.cvtColor(img, cv2.COLOR_BGR2GRAY)\n",
    "blurred = cv2.GaussianBlur(gray, (1,1),0)\n",
    "edged = cv2.Canny(blurred, 50, 250, 255)\n",
    "print(edged.shape)\n",
    "\n",
    "#cv2.imwrite('edge_img.jpg', edged)\n",
    "#cv2.imwrite('home/python/test2/train/ga_000/ga_000_test', img)\n",
    "#cv2.imshow(\"image\", img);"
   ]
  },
  {
   "cell_type": "markdown",
   "metadata": {},
   "source": [
    "Creating training set for low end "
   ]
  },
  {
   "cell_type": "code",
   "execution_count": 4,
   "metadata": {},
   "outputs": [
    {
     "name": "stdout",
     "output_type": "stream",
     "text": [
      "0.0\n",
      "0.1\n",
      "0.2\n",
      "0.3\n",
      "0.4\n",
      "0.5\n",
      "0.6\n",
      "0.7\n",
      "0.8\n",
      "0.9\n"
     ]
    }
   ],
   "source": [
    "images = glob.glob('/home/python/test1/training/ga_000/*.jpg')\n",
    "for i in range(1000):\n",
    "    if i%100==0:\n",
    "        print(i/1000)\n",
    "    choice = random.choice(images)\n",
    "    img = cv2.imread(choice)\n",
    "    name = '/home/python/test2/train/ga_000/ga_000_'+str(i)+'.jpg'\n",
    "    cv2.imwrite(name, img)"
   ]
  },
  {
   "cell_type": "code",
   "execution_count": 5,
   "metadata": {},
   "outputs": [
    {
     "name": "stdout",
     "output_type": "stream",
     "text": [
      "0.0\n",
      "0.1\n",
      "0.2\n",
      "0.3\n",
      "0.4\n",
      "0.5\n",
      "0.6\n",
      "0.7\n",
      "0.8\n",
      "0.9\n"
     ]
    }
   ],
   "source": [
    "images = glob.glob('/home/python/test1/training/ga_100/*.jpg')\n",
    "for i in range(1000):\n",
    "    if i%100==0:\n",
    "        print(i/1000)\n",
    "    choice = random.choice(images)\n",
    "    img = cv2.imread(choice)\n",
    "    name = '/home/python/test2/train/ga_100/ga_100_'+str(i)+'.jpg'\n",
    "    cv2.imwrite(name, img)"
   ]
  },
  {
   "cell_type": "code",
   "execution_count": 6,
   "metadata": {},
   "outputs": [],
   "source": [
    "images = glob.glob('/home/python/test1/verification/ga_000/*.jpg')\n",
    "for i in range(100):\n",
    "    \n",
    "    choice = random.choice(images)\n",
    "    img = cv2.imread(choice)\n",
    "    name = '/home/python/test2/validation/ga_000/ga_000_'+str(i)+'.jpg'\n",
    "    cv2.imwrite(name, img)"
   ]
  },
  {
   "cell_type": "code",
   "execution_count": 7,
   "metadata": {},
   "outputs": [],
   "source": [
    "images = glob.glob('/home/python/test1/verification/ga_100/*.jpg')\n",
    "for i in range(100):\n",
    "    \n",
    "    choice = random.choice(images)\n",
    "    img = cv2.imread(choice)\n",
    "    name = '/home/python/test2/validation/ga_100/ga_100_'+str(i)+'.jpg'\n",
    "    cv2.imwrite(name, img)"
   ]
  },
  {
   "cell_type": "markdown",
   "metadata": {},
   "source": [
    "## Test3"
   ]
  },
  {
   "cell_type": "code",
   "execution_count": 2,
   "metadata": {},
   "outputs": [
    {
     "name": "stdout",
     "output_type": "stream",
     "text": [
      "0.0\n",
      "0.1\n",
      "0.2\n",
      "0.3\n",
      "0.4\n",
      "0.5\n",
      "0.6\n",
      "0.7\n",
      "0.8\n",
      "0.9\n",
      "0.0\n",
      "0.1\n",
      "0.2\n",
      "0.3\n",
      "0.4\n",
      "0.5\n",
      "0.6\n",
      "0.7\n",
      "0.8\n",
      "0.9\n"
     ]
    }
   ],
   "source": [
    "\n",
    "images = glob.glob('/home/python/test1/training/ga_000/*.jpg')\n",
    "for i in range(1000):\n",
    "    if i%100==0:\n",
    "        print(i/1000)\n",
    "    choice = random.choice(images)\n",
    "    img = cv2.imread(choice)\n",
    "    gray = cv2.cvtColor(img, cv2.COLOR_BGR2GRAY)\n",
    "    blurred = cv2.GaussianBlur(gray, (1,1),0)\n",
    "    edged = cv2.Canny(blurred, 50, 250, 255)\n",
    "    name = '/home/python/test3/train/ga_000/ga_000_'+str(i)+'.jpg'\n",
    "    cv2.imwrite(name, edged)\n",
    "    \n",
    "images = glob.glob('/home/python/test1/training/ga_100/*.jpg')\n",
    "for i in range(1000):\n",
    "    if i%100==0:\n",
    "        print(i/1000)\n",
    "    choice = random.choice(images)\n",
    "    img = cv2.imread(choice)\n",
    "    gray = cv2.cvtColor(img, cv2.COLOR_BGR2GRAY)\n",
    "    blurred = cv2.GaussianBlur(gray, (1,1),0)\n",
    "    edged = cv2.Canny(blurred, 50, 250, 255)\n",
    "    name = '/home/python/test3/train/ga_100/ga_100_'+str(i)+'.jpg'\n",
    "    cv2.imwrite(name, edged)\n",
    "    \n",
    "images = glob.glob('/home/python/test1/verification/ga_000/*.jpg')\n",
    "for i in range(100):\n",
    "    \n",
    "    choice = random.choice(images)\n",
    "    img = cv2.imread(choice)\n",
    "    gray = cv2.cvtColor(img, cv2.COLOR_BGR2GRAY)\n",
    "    blurred = cv2.GaussianBlur(gray, (1,1),0)\n",
    "    edged = cv2.Canny(blurred, 50, 250, 255)\n",
    "    name = '/home/python/test3/validation/ga_000/ga_000_'+str(i)+'.jpg'\n",
    "    cv2.imwrite(name, edged)\n",
    "\n",
    "images = glob.glob('/home/python/test1/verification/ga_100/*.jpg')\n",
    "for i in range(100):\n",
    "    \n",
    "    choice = random.choice(images)\n",
    "    img = cv2.imread(choice)\n",
    "    gray = cv2.cvtColor(img, cv2.COLOR_BGR2GRAY)\n",
    "    blurred = cv2.GaussianBlur(gray, (1,1),0)\n",
    "    edged = cv2.Canny(blurred, 50, 250, 255)\n",
    "    name = '/home/python/test3/validation/ga_100/ga_100_'+str(i)+'.jpg'\n",
    "    cv2.imwrite(name, edged)"
   ]
  },
  {
   "cell_type": "code",
   "execution_count": 3,
   "metadata": {},
   "outputs": [],
   "source": [
    "images = glob.glob('/home/python/test1/verification/ga_000/*.jpg')\n",
    "for i in range(100):\n",
    "    \n",
    "    choice = random.choice(images)\n",
    "    img = cv2.imread(choice)\n",
    "    gray = cv2.cvtColor(img, cv2.COLOR_BGR2GRAY)\n",
    "    blurred = cv2.GaussianBlur(gray, (1,1),0)\n",
    "    edged = cv2.Canny(blurred, 50, 250, 255)\n",
    "    name = '/home/python/test3/validation/ga_000/ga_000_'+str(i)+'.jpg'\n",
    "    cv2.imwrite(name, edged)"
   ]
  },
  {
   "cell_type": "code",
   "execution_count": null,
   "metadata": {},
   "outputs": [],
   "source": []
  }
 ],
 "metadata": {
  "kernelspec": {
   "display_name": "Python 3",
   "language": "python",
   "name": "python3"
  },
  "language_info": {
   "codemirror_mode": {
    "name": "ipython",
    "version": 3
   },
   "file_extension": ".py",
   "mimetype": "text/x-python",
   "name": "python",
   "nbconvert_exporter": "python",
   "pygments_lexer": "ipython3",
   "version": "3.6.5"
  }
 },
 "nbformat": 4,
 "nbformat_minor": 2
}
