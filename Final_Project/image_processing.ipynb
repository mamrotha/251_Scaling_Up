{
 "cells": [
  {
   "cell_type": "code",
   "execution_count": 1,
   "metadata": {},
   "outputs": [],
   "source": [
    "import glob\n",
    "import cv2\n",
    "import random\n",
    "import shutil\n",
    "from matplotlib import pyplot as plt"
   ]
  },
  {
   "cell_type": "code",
   "execution_count": 3,
   "metadata": {},
   "outputs": [],
   "source": [
    "#Test image grabs and processing\n",
    "for image in glob.iglob('/home/python/test1/training/ga_000/*.jpg'):\n",
    "    \n",
    "    img = cv2.imread(image)\n",
    "    gray = cv2.cvtColor(img, cv2.COLOR_BGR2GRAY)\n",
    "    blurred = cv2.GaussianBlur(gray, (1,1),0)\n",
    "    edged = cv2.Canny(blurred, 50, 250, 255)\n",
    "    #print(edged)\n",
    "    "
   ]
  },
  {
   "cell_type": "code",
   "execution_count": 10,
   "metadata": {},
   "outputs": [
    {
     "name": "stdout",
     "output_type": "stream",
     "text": [
      "(480, 640)\n"
     ]
    },
    {
     "data": {
      "text/plain": [
       "<matplotlib.image.AxesImage at 0x7f18ad6f20b8>"
      ]
     },
     "execution_count": 10,
     "metadata": {},
     "output_type": "execute_result"
    },
    {
     "data": {
      "image/png": "[encoded data removed]",
      "text/plain": [
       "<Figure size 432x288 with 1 Axes>"
      ]
     },
     "metadata": {},
     "output_type": "display_data"
    }
   ],
   "source": [
    "#View test image to see processing steps\n",
    "images = glob.glob('/home/python/test3/train/ga_000/*.jpg')\n",
    "img = cv2.imread(images[0])\n",
    "gray = cv2.cvtColor(img, cv2.COLOR_BGR2GRAY)\n",
    "blurred = cv2.GaussianBlur(gray, (1,1),0)\n",
    "edged = cv2.Canny(blurred, 50, 250, 255)\n",
    "print(edged.shape)\n",
    "\n",
    "#Test writing processed image to disk\n",
    "#cv2.imwrite('edge_img.jpg', edged)\n",
    "#cv2.imwrite('home/python/test2/train/ga_000/ga_000_test', img)\n",
    "#cv2.imshow(\"image\", img);\n",
    "\n",
    "plt.imshow(img)"
   ]
  },
  {
   "cell_type": "markdown",
   "metadata": {},
   "source": [
    "## Test3"
   ]
  },
  {
   "cell_type": "code",
   "execution_count": 2,
   "metadata": {},
   "outputs": [
    {
     "name": "stdout",
     "output_type": "stream",
     "text": [
      "0.0\n",
      "0.1\n",
      "0.2\n",
      "0.3\n",
      "0.4\n",
      "0.5\n",
      "0.6\n",
      "0.7\n",
      "0.8\n",
      "0.9\n",
      "0.0\n",
      "0.1\n",
      "0.2\n",
      "0.3\n",
      "0.4\n",
      "0.5\n",
      "0.6\n",
      "0.7\n",
      "0.8\n",
      "0.9\n"
     ]
    }
   ],
   "source": [
    "\n",
    "images = glob.glob('/home/python/test1/training/ga_000/*.jpg')\n",
    "for i in range(1000):\n",
    "    if i%100==0:\n",
    "        print(i/1000)\n",
    "    choice = random.choice(images)\n",
    "    img = cv2.imread(choice)\n",
    "    gray = cv2.cvtColor(img, cv2.COLOR_BGR2GRAY)\n",
    "    blurred = cv2.GaussianBlur(gray, (1,1),0)\n",
    "    edged = cv2.Canny(blurred, 50, 250, 255)\n",
    "    name = '/home/python/test3/train/ga_000/ga_000_'+str(i)+'.jpg'\n",
    "    cv2.imwrite(name, edged)\n",
    "    \n",
    "images = glob.glob('/home/python/test1/training/ga_100/*.jpg')\n",
    "for i in range(1000):\n",
    "    if i%100==0:\n",
    "        print(i/1000)\n",
    "    choice = random.choice(images)\n",
    "    img = cv2.imread(choice)\n",
    "    gray = cv2.cvtColor(img, cv2.COLOR_BGR2GRAY)\n",
    "    blurred = cv2.GaussianBlur(gray, (1,1),0)\n",
    "    edged = cv2.Canny(blurred, 50, 250, 255)\n",
    "    name = '/home/python/test3/train/ga_100/ga_100_'+str(i)+'.jpg'\n",
    "    cv2.imwrite(name, edged)\n",
    "    \n",
    "images = glob.glob('/home/python/test1/verification/ga_000/*.jpg')\n",
    "for i in range(100):\n",
    "    \n",
    "    choice = random.choice(images)\n",
    "    img = cv2.imread(choice)\n",
    "    gray = cv2.cvtColor(img, cv2.COLOR_BGR2GRAY)\n",
    "    blurred = cv2.GaussianBlur(gray, (1,1),0)\n",
    "    edged = cv2.Canny(blurred, 50, 250, 255)\n",
    "    name = '/home/python/test3/validation/ga_000/ga_000_'+str(i)+'.jpg'\n",
    "    cv2.imwrite(name, edged)\n",
    "\n",
    "images = glob.glob('/home/python/test1/verification/ga_100/*.jpg')\n",
    "for i in range(100):\n",
    "    \n",
    "    choice = random.choice(images)\n",
    "    img = cv2.imread(choice)\n",
    "    gray = cv2.cvtColor(img, cv2.COLOR_BGR2GRAY)\n",
    "    blurred = cv2.GaussianBlur(gray, (1,1),0)\n",
    "    edged = cv2.Canny(blurred, 50, 250, 255)\n",
    "    name = '/home/python/test3/validation/ga_100/ga_100_'+str(i)+'.jpg'\n",
    "    cv2.imwrite(name, edged)"
   ]
  },
  {
   "cell_type": "markdown",
   "metadata": {},
   "source": [
    "## Test 4 Data"
   ]
  },
  {
   "cell_type": "code",
   "execution_count": 3,
   "metadata": {},
   "outputs": [
    {
     "name": "stdout",
     "output_type": "stream",
     "text": [
      "0.0\n",
      "0.1\n",
      "0.2\n",
      "0.3\n",
      "0.4\n",
      "0.5\n",
      "0.6\n",
      "0.7\n",
      "0.8\n",
      "0.9\n"
     ]
    }
   ],
   "source": [
    "images = glob.glob('/home/python/ga_gauge/training/ga_050/*.jpg')\n",
    "for i in range(1000):\n",
    "    if i%100==0:\n",
    "        print(i/1000)\n",
    "    choice = random.choice(images)\n",
    "    img = cv2.imread(choice)\n",
    "    gray = cv2.cvtColor(img, cv2.COLOR_BGR2GRAY)\n",
    "    blurred = cv2.GaussianBlur(gray, (1,1),0)\n",
    "    edged = cv2.Canny(blurred, 50, 250, 255)\n",
    "    name = '/home/python/test4/train/ga_050/ga_050_'+str(i)+'.jpg'\n",
    "    cv2.imwrite(name, edged)\n",
    "\n",
    "images = glob.glob('/home/python/ga_gauge/verification/ga_050/*.jpg')\n",
    "for i in range(100):\n",
    "    \n",
    "    choice = random.choice(images)\n",
    "    img = cv2.imread(choice)\n",
    "    gray = cv2.cvtColor(img, cv2.COLOR_BGR2GRAY)\n",
    "    blurred = cv2.GaussianBlur(gray, (1,1),0)\n",
    "    edged = cv2.Canny(blurred, 50, 250, 255)\n",
    "    name = '/home/python/test4/validation/ga_050/ga_050_'+str(i)+'.jpg'\n",
    "    cv2.imwrite(name, edged)    "
   ]
  },
  {
   "cell_type": "markdown",
   "metadata": {},
   "source": [
    "## Test 5"
   ]
  },
  {
   "cell_type": "code",
   "execution_count": 3,
   "metadata": {},
   "outputs": [],
   "source": [
    "#Create Test Data set from existing data\n",
    "def create_data(copy_data, n, location,v=False):\n",
    "    copy_loc = '/home/python/'+copy_data+'/*.jpg'\n",
    "    images = glob.glob(copy_loc)\n",
    "    for i in range(n):\n",
    "    \n",
    "    #update progress\n",
    "        if v:\n",
    "            if i%100==0:\n",
    "                print(i/1000)\n",
    "        \n",
    "    #choose random images to avoid overusing individual images\n",
    "        choice = random.choice(images)\n",
    "        img = cv2.imread(choice)\n",
    "        name = '/home/python/'+location+'/ga_000_'+str(i)+'.jpg'\n",
    "        cv2.imwrite(name, img)\n",
    "    \n",
    "    return       "
   ]
  },
  {
   "cell_type": "markdown",
   "metadata": {},
   "source": [
    "## Generate Data for remaining gauges"
   ]
  },
  {
   "cell_type": "code",
   "execution_count": 4,
   "metadata": {},
   "outputs": [],
   "source": [
    "#Generate data for gw_gauge\n",
    "for i in range(0,10):\n",
    "    copy_data = 'gw_gauge_small/training/gw_0'+str(i)+'0'\n",
    "    new_data = 'gw_gauge/train/gw_0'+str(i)+'0'\n",
    "    create_data(copy_data, 1000, new_data)\n",
    "    \n",
    "for i in range(1,10):\n",
    "    copy_data = 'gw_gauge_small/training/gw_0'+str(i)+'0'\n",
    "    new_data = 'gw_gauge/validation/gw_0'+str(i)+'0'\n",
    "    create_data(copy_data, 100, new_data)\n",
    "    \n",
    "copy_data = 'gw_gauge_small/training/gw_100'\n",
    "new_data = 'gw_gauge/train/gw_100'\n",
    "create_data(copy_data, 1000, new_data)\n",
    "\n",
    "copy_data = 'gw_gauge_small/training/gw_100'\n",
    "new_data = 'gw_gauge/validation/gw_100'\n",
    "create_data(copy_data, 100, new_data)"
   ]
  },
  {
   "cell_type": "code",
   "execution_count": 5,
   "metadata": {},
   "outputs": [
    {
     "name": "stdout",
     "output_type": "stream",
     "text": [
      "1\n",
      "2\n",
      "3\n",
      "4\n",
      "5\n",
      "6\n",
      "7\n",
      "8\n",
      "9\n",
      "last part\n"
     ]
    }
   ],
   "source": [
    "#Generate data for ma_gauge\n",
    "for i in range(1,10):\n",
    "    copy_data = 'ma_gauge_small/training/ma_0'+str(i)+'0'\n",
    "    new_data = 'ma_gauge/train/ma_0'+str(i)+'0'\n",
    "    create_data(copy_data, 1000, new_data)\n",
    "    print(i)\n",
    "    \n",
    "for i in range(1,10):\n",
    "    copy_data = 'ma_gauge_small/verification/ma_0'+str(i)+'0'\n",
    "    new_data = 'ma_gauge/validation/ma_0'+str(i)+'0'\n",
    "    create_data(copy_data, 100, new_data)\n",
    "\n",
    "print('last part')\n",
    "copy_data = 'ma_gauge_small/training/ma_100'\n",
    "new_data = 'ma_gauge/train/ma_100'\n",
    "create_data(copy_data, 1000, new_data)\n",
    "\n",
    "copy_data = 'ma_gauge_small/training/ma_100'\n",
    "new_data = 'ma_gauge/validation/ma_100'\n",
    "create_data(copy_data, 100, new_data)"
   ]
  },
  {
   "cell_type": "code",
   "execution_count": 6,
   "metadata": {},
   "outputs": [
    {
     "name": "stdout",
     "output_type": "stream",
     "text": [
      "1\n",
      "2\n",
      "3\n",
      "4\n",
      "5\n",
      "6\n",
      "7\n",
      "8\n",
      "9\n",
      "last part\n"
     ]
    }
   ],
   "source": [
    "#Generate data for rg_gauge\n",
    "for i in range(1,10):\n",
    "    copy_data = 'rg_gauge_small/training/rg_0'+str(i)+'0'\n",
    "    new_data = 'rg_gauge/train/rg_0'+str(i)+'0'\n",
    "    create_data(copy_data, 1000, new_data)\n",
    "    print(i)\n",
    "    \n",
    "for i in range(1,10):\n",
    "    copy_data = 'rg_gauge_small/verification/rg_0'+str(i)+'0'\n",
    "    new_data = 'rg_gauge/validation/rg_0'+str(i)+'0'\n",
    "    create_data(copy_data, 100, new_data)\n",
    "\n",
    "print('last part')\n",
    "copy_data = 'rg_gauge_small/training/rg_100'\n",
    "new_data = 'rg_gauge/train/rg_100'\n",
    "create_data(copy_data, 1000, new_data)\n",
    "\n",
    "copy_data = 'rg_gauge_small/training/rg_100'\n",
    "new_data = 'rg_gauge/validation/rg_100'\n",
    "create_data(copy_data, 100, new_data)"
   ]
  },
  {
   "cell_type": "code",
   "execution_count": null,
   "metadata": {},
   "outputs": [],
   "source": []
  }
 ],
 "metadata": {
  "kernelspec": {
   "display_name": "Python 3",
   "language": "python",
   "name": "python3"
  },
  "language_info": {
   "codemirror_mode": {
    "name": "ipython",
    "version": 3
   },
   "file_extension": ".py",
   "mimetype": "text/x-python",
   "name": "python",
   "nbconvert_exporter": "python",
   "pygments_lexer": "ipython3",
   "version": "3.6.5"
  }
 },
 "nbformat": 4,
 "nbformat_minor": 2
}
